{
 "cells": [
  {
   "cell_type": "code",
   "execution_count": null,
   "metadata": {},
   "outputs": [],
   "source": [
    "import numpy as np\n",
    "import matplotlib.pyplot as plt\n",
    "from utils import generate_cuboid_points, draw_isometric_projection\n",
    "\n",
    "%matplotlib notebook\n",
    "\n",
    "#--------------------------------------------\n",
    "# input parameters of the first (blue) cuboid\n",
    "#--------------------------------------------\n",
    "\n",
    "# dimension of the cuboid in all three directions\n",
    "# by default, the center of the not rotated cuboid\n",
    "# is at (0,0,0)\n",
    "width1 = 6\n",
    "height1 = 3\n",
    "depth1 = 6\n",
    "# rotation angle in degrees for rotation around vertical axis (1-axis)\n",
    "theta1_degree= 0\n",
    "# after rotation, an additional shift can be applied\n",
    "offset1 = np.array([0,0,0])\n",
    "\n",
    "#--------------------------------------------\n",
    "# input parameters of the second (orange) cuboid\n",
    "#--------------------------------------------\n",
    "\n",
    "width2 = 6\n",
    "height2 = 3\n",
    "depth2 = 6\n",
    "theta2_degree= 22\n",
    "offset2 = np.array([1,height1,-1])\n",
    "\n",
    "#------------------------------------------------------------------------------------------------\n",
    "#------------------------------------------------------------------------------------------------\n",
    "# no need to change anything below this line\n",
    "#------------------------------------------------------------------------------------------------\n",
    "#------------------------------------------------------------------------------------------------\n",
    "\n",
    "# rotate cuboid\n",
    "cuboid_1_points_rotated = generate_cuboid_points(width1, height1, depth1, offset1, theta1_degree*np.pi/180)\n",
    "cuboid_2_points_rotated = generate_cuboid_points(width2, height2, depth2, offset2, theta2_degree*np.pi/180)\n",
    "\n",
    "fig = plt.figure()\n",
    "ax = fig.add_subplot(projection='3d')\n",
    "\n",
    "fig2, ax2 = plt.subplots()\n",
    "\n",
    "draw_isometric_projection(cuboid_1_points_rotated, ax, ax2, col = plt.cm.tab10(0))\n",
    "draw_isometric_projection(cuboid_2_points_rotated, ax, ax2, col = plt.cm.tab10(1))\n",
    "\n",
    "fig.tight_layout()\n",
    "fig2.tight_layout()"
   ]
  }
 ],
 "metadata": {
  "kernelspec": {
   "display_name": "Python 3 (ipykernel)",
   "language": "python",
   "name": "python3"
  },
  "language_info": {
   "codemirror_mode": {
    "name": "ipython",
    "version": 3
   },
   "file_extension": ".py",
   "mimetype": "text/x-python",
   "name": "python",
   "nbconvert_exporter": "python",
   "pygments_lexer": "ipython3",
   "version": "3.10.9"
  }
 },
 "nbformat": 4,
 "nbformat_minor": 2
}
